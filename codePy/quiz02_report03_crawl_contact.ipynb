{
 "cells": [
  {
   "cell_type": "markdown",
   "metadata": {},
   "source": [
    "# crawl contact info\n",
    "\n",
    "因為抓的時候，後來清理資料才發現 API 裡面沒有張貼者的聯絡資訊，  \n",
    "所以後來才再補爬。"
   ]
  },
  {
   "cell_type": "raw",
   "metadata": {},
   "source": [
    "from IPython.core.display import HTML\n",
    "HTML(\"<script>Jupyter.notebook.kernel.restart()</script>\")"
   ]
  },
  {
   "cell_type": "code",
   "execution_count": 1,
   "metadata": {},
   "outputs": [],
   "source": [
    "import pandas as pd\n",
    "import numpy as np\n",
    "import requests\n",
    "from bs4 import BeautifulSoup\n",
    "from datetime import datetime\n",
    "import time\n",
    "import random\n",
    "import re\n",
    "import json\n",
    "import os"
   ]
  },
  {
   "cell_type": "code",
   "execution_count": 2,
   "metadata": {},
   "outputs": [],
   "source": [
    "path_root = os.path.join(os.getcwd(), \"../\")\n",
    "path_result = os.path.join(path_root, \"./result\")\n",
    "\n",
    "if not os.path.exists(path_result):\n",
    "    os.mkdir(path_result)"
   ]
  },
  {
   "cell_type": "code",
   "execution_count": null,
   "metadata": {},
   "outputs": [],
   "source": []
  },
  {
   "cell_type": "markdown",
   "metadata": {},
   "source": [
    "## session"
   ]
  },
  {
   "cell_type": "raw",
   "metadata": {},
   "source": [
    "url = 'https://rent.591.com.tw'\n",
    "agent = 'Mozilla/5.0 (Windows NT 10.0; Win64; x64) AppleWebKit/537.36 (KHTML, like Gecko) Chrome/91.0.4472.77 Safari/537.36'"
   ]
  },
  {
   "cell_type": "raw",
   "metadata": {},
   "source": [
    "header = {\n",
    "    'Referer': url,\n",
    "    'User-Agent': agent,\n",
    "}"
   ]
  },
  {
   "cell_type": "raw",
   "metadata": {},
   "source": [
    "session = requests.session()\n",
    "session.headers = header\n",
    "\n",
    "source_page = session.get(url+'/?kind=0&region=1')\n",
    "soup = BeautifulSoup(source_page.text, 'lxml')\n",
    "token = soup.find('meta', {'name':'csrf-token'}).get('content')\n",
    "print(token)"
   ]
  },
  {
   "cell_type": "code",
   "execution_count": null,
   "metadata": {},
   "outputs": [],
   "source": []
  },
  {
   "cell_type": "markdown",
   "metadata": {},
   "source": [
    "## crawl 20210614\n",
    "\n",
    "改版後目前這個就失效了"
   ]
  },
  {
   "cell_type": "raw",
   "metadata": {},
   "source": [
    "meta_refresh = pd.read_csv('../result/meta_refresh.csv')\n",
    "postids = list(meta_refresh['id'])"
   ]
  },
  {
   "cell_type": "raw",
   "metadata": {
    "scrolled": true
   },
   "source": [
    "%%time\n",
    "\n",
    "contact = []\n",
    "for idx in range(len(postids)): \n",
    "    if (idx % 10) == 0: print(idx)\n",
    "    \n",
    "    url_post = f'https://rent.591.com.tw/rent-detail-{postids[idx]}.html'\n",
    "    source_page = session.get(url_post,\n",
    "                          headers={\n",
    "                              'Referer': url,\n",
    "                              'User-Agent': agent,\n",
    "                              'X-CSRF-TOKEN':token\n",
    "                          })\n",
    "    soup = BeautifulSoup(source_page.text, 'lxml')\n",
    "    \n",
    "    try:\n",
    "        result = [{'post_id': postids[idx], 'contact': soup.find('span', {'class':'dialPhoneNum'}).get('data-value')}]        \n",
    "    except:\n",
    "        result = [{'post_id': postids[idx], 'contact': None}]\n",
    "    \n",
    "    contact = contact + result\n",
    "    sleeptime = random.uniform(0, 1)\n",
    "    time.sleep(sleeptime)"
   ]
  },
  {
   "cell_type": "raw",
   "metadata": {},
   "source": [
    "session.close()"
   ]
  },
  {
   "cell_type": "code",
   "execution_count": null,
   "metadata": {},
   "outputs": [],
   "source": []
  },
  {
   "cell_type": "markdown",
   "metadata": {},
   "source": [
    "## crawl 20210621\n",
    "\n",
    "用 selenium 硬爬"
   ]
  },
  {
   "cell_type": "code",
   "execution_count": 6,
   "metadata": {},
   "outputs": [],
   "source": [
    "from selenium import webdriver"
   ]
  },
  {
   "cell_type": "code",
   "execution_count": 7,
   "metadata": {},
   "outputs": [
    {
     "data": {
      "text/plain": [
       "15267"
      ]
     },
     "execution_count": 7,
     "metadata": {},
     "output_type": "execute_result"
    }
   ],
   "source": [
    "meta_refresh = pd.read_csv('../result/meta_refresh.csv')\n",
    "postids = list(meta_refresh['id'])\n",
    "len(postids)"
   ]
  },
  {
   "cell_type": "code",
   "execution_count": 8,
   "metadata": {},
   "outputs": [],
   "source": [
    "path_driver = \"C:\\InstallSoftware\\crawler\\chromedriver.exe\"\n",
    "browser = webdriver.Chrome(executable_path = path_driver)"
   ]
  },
  {
   "cell_type": "code",
   "execution_count": 9,
   "metadata": {
    "scrolled": true
   },
   "outputs": [
    {
     "name": "stdout",
     "output_type": "stream",
     "text": [
      "0\n",
      "10\n",
      "20\n",
      "30\n",
      "40\n",
      "50\n",
      "60\n",
      "70\n",
      "80\n",
      "90\n",
      "100\n",
      "110\n",
      "120\n",
      "130\n",
      "140\n",
      "150\n",
      "160\n",
      "170\n",
      "180\n",
      "190\n",
      "200\n",
      "210\n",
      "220\n",
      "230\n",
      "240\n",
      "250\n",
      "260\n",
      "270\n",
      "280\n",
      "290\n",
      "300\n",
      "310\n",
      "320\n",
      "330\n",
      "340\n",
      "350\n",
      "360\n",
      "370\n",
      "380\n",
      "390\n",
      "400\n",
      "410\n",
      "420\n",
      "430\n",
      "440\n",
      "450\n",
      "460\n",
      "470\n",
      "480\n",
      "490\n",
      "500\n",
      "510\n",
      "520\n",
      "530\n",
      "540\n",
      "550\n",
      "560\n",
      "570\n",
      "580\n",
      "590\n",
      "600\n",
      "610\n",
      "620\n",
      "630\n",
      "640\n",
      "650\n",
      "660\n",
      "670\n",
      "680\n",
      "690\n",
      "700\n",
      "710\n",
      "720\n",
      "730\n",
      "740\n",
      "750\n",
      "760\n",
      "770\n",
      "780\n",
      "790\n",
      "800\n",
      "810\n",
      "820\n",
      "830\n",
      "840\n",
      "850\n",
      "860\n",
      "870\n",
      "880\n",
      "890\n",
      "900\n",
      "910\n",
      "920\n",
      "930\n",
      "940\n",
      "950\n",
      "960\n",
      "970\n",
      "980\n",
      "990\n",
      "1000\n",
      "1010\n",
      "1020\n",
      "1030\n",
      "1040\n",
      "1050\n",
      "1060\n",
      "1070\n",
      "1080\n",
      "1090\n",
      "1100\n",
      "1110\n",
      "1120\n",
      "1130\n",
      "1140\n",
      "1150\n",
      "1160\n",
      "1170\n",
      "1180\n",
      "1190\n",
      "1200\n",
      "1210\n",
      "1220\n",
      "1230\n",
      "1240\n",
      "1250\n",
      "1260\n",
      "1270\n",
      "1280\n",
      "1290\n",
      "1300\n",
      "1310\n",
      "1320\n",
      "1330\n",
      "1340\n",
      "1350\n",
      "1360\n",
      "1370\n",
      "1380\n",
      "1390\n",
      "1400\n",
      "1410\n",
      "1420\n",
      "1430\n",
      "1440\n",
      "1450\n",
      "1460\n",
      "1470\n",
      "1480\n",
      "1490\n",
      "Wall time: 33min 35s\n"
     ]
    }
   ],
   "source": [
    "%%time\n",
    "\n",
    "contact = []\n",
    "# for idx in range(len(postids)): \n",
    "for idx in range(0,1500): \n",
    "    if (idx % 10) == 0: print(idx)\n",
    "    \n",
    "    url = f'https://rent.591.com.tw/home/{postids[idx]}'\n",
    "    browser.get(url)\n",
    "    \n",
    "    try:\n",
    "        tmp_contact = browser.find_element_by_xpath(\"//div[@id='rightConFixed']//span[@class='tel-txt']\").text\n",
    "        tmp_contact = re.search('[0-9-]+', tmp_contact).group(0)\n",
    "        result = [{'post_id': postids[idx], 'contact': tmp_contact}]\n",
    "    except:\n",
    "        result = [{'post_id': postids[idx], 'contact': None}]\n",
    "    \n",
    "    contact = contact + result\n",
    "    browser.implicitly_wait(1.5)\n",
    "    sleeptime = random.uniform(0, 1)\n",
    "    time.sleep(sleeptime)"
   ]
  },
  {
   "cell_type": "code",
   "execution_count": 10,
   "metadata": {},
   "outputs": [],
   "source": [
    "# print(browser.page_source)\n",
    "browser.quit()"
   ]
  },
  {
   "cell_type": "code",
   "execution_count": null,
   "metadata": {},
   "outputs": [],
   "source": []
  },
  {
   "cell_type": "markdown",
   "metadata": {},
   "source": [
    "## save"
   ]
  },
  {
   "cell_type": "code",
   "execution_count": 77,
   "metadata": {},
   "outputs": [],
   "source": [
    "path_json = os.path.join(path_result, './contact.json')\n",
    "with open(path_json, 'w', encoding='utf-8') as jsonfile:\n",
    "    json.dump(contact, jsonfile, ensure_ascii = False)"
   ]
  },
  {
   "cell_type": "code",
   "execution_count": null,
   "metadata": {},
   "outputs": [],
   "source": []
  },
  {
   "cell_type": "markdown",
   "metadata": {},
   "source": [
    "---\n",
    "\n",
    "## update data to mongoDB\n"
   ]
  },
  {
   "cell_type": "code",
   "execution_count": 78,
   "metadata": {},
   "outputs": [],
   "source": [
    "import os\n",
    "import sys\n",
    "import numpy as np\n",
    "import json\n",
    "import re\n",
    "from pymongo import MongoClient"
   ]
  },
  {
   "cell_type": "code",
   "execution_count": 79,
   "metadata": {},
   "outputs": [],
   "source": [
    "path_root = os.path.join(os.getcwd(), \"../\")\n",
    "path_key = os.path.join(path_root, './key/key.txt')\n",
    "path_result = os.path.join(path_root, \"./result\")\n",
    "json_contact = os.path.join(path_result, \"./contact.json\")"
   ]
  },
  {
   "cell_type": "code",
   "execution_count": 80,
   "metadata": {},
   "outputs": [],
   "source": [
    "conn_string = open(path_key, 'r').read()"
   ]
  },
  {
   "cell_type": "code",
   "execution_count": null,
   "metadata": {},
   "outputs": [],
   "source": []
  },
  {
   "cell_type": "markdown",
   "metadata": {},
   "source": [
    "### read data"
   ]
  },
  {
   "cell_type": "code",
   "execution_count": 81,
   "metadata": {},
   "outputs": [],
   "source": [
    "with open(json_contact, \"r\", encoding='utf-8') as jsonfile:\n",
    "    raw_contact = json.load(jsonfile)"
   ]
  },
  {
   "cell_type": "code",
   "execution_count": 83,
   "metadata": {},
   "outputs": [],
   "source": [
    "for i in range(len(raw_contact)):\n",
    "    try:\n",
    "        a = re.search('[0-9-]+ ?', raw_contact[i]['contact'])\n",
    "        raw_contact[i]['contact'] = a.group(0).strip().replace('-', '')\n",
    "    except:\n",
    "        next"
   ]
  },
  {
   "cell_type": "code",
   "execution_count": null,
   "metadata": {},
   "outputs": [],
   "source": []
  },
  {
   "cell_type": "markdown",
   "metadata": {},
   "source": [
    "### upload"
   ]
  },
  {
   "cell_type": "code",
   "execution_count": 90,
   "metadata": {},
   "outputs": [],
   "source": [
    "cluster = MongoClient(conn_string)\n",
    "db = cluster['db_cathay']\n",
    "# collection = db['meta_data']\n",
    "# collection = db['cathay_search']\n",
    "collection = db['my_search']"
   ]
  },
  {
   "cell_type": "code",
   "execution_count": 91,
   "metadata": {},
   "outputs": [
    {
     "name": "stdout",
     "output_type": "stream",
     "text": [
      "Wall time: 7min 47s\n"
     ]
    }
   ],
   "source": [
    "%%time\n",
    "\n",
    "for i in range(len(raw_contact)):\n",
    "    collection.update_one({'post_id': raw_contact[i]['post_id']}, {'$set': {'contact': raw_contact[i]['contact']}})"
   ]
  },
  {
   "cell_type": "code",
   "execution_count": 92,
   "metadata": {},
   "outputs": [],
   "source": [
    "cluster.close()"
   ]
  },
  {
   "cell_type": "code",
   "execution_count": null,
   "metadata": {},
   "outputs": [],
   "source": []
  },
  {
   "cell_type": "markdown",
   "metadata": {},
   "source": [
    "## END"
   ]
  },
  {
   "cell_type": "code",
   "execution_count": null,
   "metadata": {},
   "outputs": [],
   "source": []
  }
 ],
 "metadata": {
  "kernelspec": {
   "display_name": "Python 3.7.5",
   "language": "python",
   "name": "python3.7.5"
  },
  "language_info": {
   "codemirror_mode": {
    "name": "ipython",
    "version": 3
   },
   "file_extension": ".py",
   "mimetype": "text/x-python",
   "name": "python",
   "nbconvert_exporter": "python",
   "pygments_lexer": "ipython3",
   "version": "3.7.5"
  },
  "toc": {
   "base_numbering": 1,
   "nav_menu": {},
   "number_sections": false,
   "sideBar": true,
   "skip_h1_title": false,
   "title_cell": "Table of Contents",
   "title_sidebar": "Contents",
   "toc_cell": false,
   "toc_position": {
    "height": "calc(100% - 180px)",
    "left": "10px",
    "top": "150px",
    "width": "245.76px"
   },
   "toc_section_display": true,
   "toc_window_display": false
  }
 },
 "nbformat": 4,
 "nbformat_minor": 2
}
