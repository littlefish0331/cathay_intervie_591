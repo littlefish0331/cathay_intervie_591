{
 "cells": [
  {
   "cell_type": "markdown",
   "metadata": {},
   "source": [
    "# quiz 01\n",
    "\n",
    "---"
   ]
  },
  {
   "cell_type": "markdown",
   "metadata": {},
   "source": [
    "## step 00 : setting\n",
    "\n",
    "- import module\n",
    "- data path"
   ]
  },
  {
   "cell_type": "raw",
   "metadata": {},
   "source": [
    "from IPython.core.display import HTML\n",
    "HTML(\"<script>Jupyter.notebook.kernel.restart()</script>\")"
   ]
  },
  {
   "cell_type": "code",
   "execution_count": 1,
   "metadata": {},
   "outputs": [],
   "source": [
    "import os\n",
    "import sys\n",
    "import pandas as pd\n",
    "import numpy as np\n",
    "import re\n",
    "import requests\n",
    "\n",
    "# self-definition package.module\n",
    "import quiz.myfun01 as myfun"
   ]
  },
  {
   "cell_type": "code",
   "execution_count": 3,
   "metadata": {},
   "outputs": [],
   "source": [
    "path_root = os.path.join(os.getcwd(), \"../\")\n",
    "path_data = os.path.join(path_root, \"./data\")\n",
    "path_result = os.path.join(path_root, \"./result\")\n",
    "\n",
    "if not os.path.exists(path_result):\n",
    "    os.mkdir(path_result)"
   ]
  },
  {
   "cell_type": "raw",
   "metadata": {},
   "source": []
  },
  {
   "cell_type": "markdown",
   "metadata": {},
   "source": [
    "---\n",
    "\n",
    "## step 01 : download data\n",
    "\n",
    "下載【內政部不動產時價登錄網】中，  \n",
    "位於【臺北市/新北市/桃園市/臺中市/高雄市】的【不動產買賣】資料，  \n",
    "請選擇【本期下載】。\n",
    "\n",
    "- 手動下載\n",
    "- 用 api 下載。\n"
   ]
  },
  {
   "cell_type": "code",
   "execution_count": 3,
   "metadata": {},
   "outputs": [],
   "source": [
    "import requests "
   ]
  },
  {
   "cell_type": "code",
   "execution_count": 4,
   "metadata": {},
   "outputs": [],
   "source": [
    "csv_url = [\n",
    "    'https://plvr.land.moi.gov.tw//Download?fileName=a_lvr_land_a.csv',\n",
    "    'https://plvr.land.moi.gov.tw//Download?fileName=f_lvr_land_a.csv',\n",
    "    'https://plvr.land.moi.gov.tw//Download?fileName=h_lvr_land_a.csv',\n",
    "    'https://plvr.land.moi.gov.tw//Download?fileName=b_lvr_land_a.csv',\n",
    "    'https://plvr.land.moi.gov.tw//Download?fileName=e_lvr_land_a.csv',\n",
    "    'https://plvr.land.moi.gov.tw//Download?fileName=manifest.csv&q=aa,fa,ha,ba,ea&type=csv',\n",
    "    'https://plvr.land.moi.gov.tw//Download?fileName=schema-build.csv&q=aa,fa,ha,ba,ea&type=csv',\n",
    "    'https://plvr.land.moi.gov.tw//Download?fileName=schema-park.csv&q=aa,fa,ha,ba,ea&type=csv',\n",
    "    'https://plvr.land.moi.gov.tw//Download?fileName=schema-main.csv&q=aa,fa,ha,ba,ea&type=csv',\n",
    "    'https://plvr.land.moi.gov.tw//Download?fileName=schema-land.csv&q=aa,fa,ha,ba,ea&type=csv',\n",
    "]"
   ]
  },
  {
   "cell_type": "code",
   "execution_count": 5,
   "metadata": {},
   "outputs": [
    {
     "name": "stdout",
     "output_type": "stream",
     "text": [
      "D:\\JobHouseSearch\\Job-Search-2020\\company\\cathay\\exam\\codePy\\.././data\\a_lvr_land_a.csv\n",
      "D:\\JobHouseSearch\\Job-Search-2020\\company\\cathay\\exam\\codePy\\.././data\\f_lvr_land_a.csv\n",
      "D:\\JobHouseSearch\\Job-Search-2020\\company\\cathay\\exam\\codePy\\.././data\\h_lvr_land_a.csv\n",
      "D:\\JobHouseSearch\\Job-Search-2020\\company\\cathay\\exam\\codePy\\.././data\\b_lvr_land_a.csv\n",
      "D:\\JobHouseSearch\\Job-Search-2020\\company\\cathay\\exam\\codePy\\.././data\\e_lvr_land_a.csv\n",
      "D:\\JobHouseSearch\\Job-Search-2020\\company\\cathay\\exam\\codePy\\.././data\\manifest.csv\n",
      "D:\\JobHouseSearch\\Job-Search-2020\\company\\cathay\\exam\\codePy\\.././data\\schema-build.csv\n",
      "D:\\JobHouseSearch\\Job-Search-2020\\company\\cathay\\exam\\codePy\\.././data\\schema-park.csv\n",
      "D:\\JobHouseSearch\\Job-Search-2020\\company\\cathay\\exam\\codePy\\.././data\\schema-main.csv\n",
      "D:\\JobHouseSearch\\Job-Search-2020\\company\\cathay\\exam\\codePy\\.././data\\schema-land.csv\n"
     ]
    }
   ],
   "source": [
    "for i in range(len(csv_url)):\n",
    "    \n",
    "    # download\n",
    "    req = requests.get(csv_url[i])\n",
    "    url_content = req.content\n",
    "    \n",
    "    # filename\n",
    "    fname = re.search(\"(?<=fileName=).+\\.csv\", csv_url[i]).group(0)\n",
    "    path_fname = os.path.join(path_data, fname)\n",
    "    print(path_fname)\n",
    "    \n",
    "    # save\n",
    "    csv_file = open(path_fname, 'wb')\n",
    "    csv_file.write(url_content)\n",
    "    csv_file.close()"
   ]
  },
  {
   "cell_type": "code",
   "execution_count": null,
   "metadata": {},
   "outputs": [],
   "source": []
  },
  {
   "cell_type": "markdown",
   "metadata": {},
   "source": [
    "\n",
    "---\n",
    "\n",
    "## step 02 : data\n",
    "\n",
    "使用【pandas】套件，讀取檔名【a_lvr_land_a】【b_lvr_land_a】【e_lvr_land_a】【f_lvr_land_a】【h_lvr_land_a】五份資料集，建立 dataframe 物件【df_a】【df_b】【df_e】【df_f】【df_h】。\n",
    "\n",
    "- read\n",
    "- union\n",
    "\n",
    "---"
   ]
  },
  {
   "cell_type": "code",
   "execution_count": 6,
   "metadata": {},
   "outputs": [],
   "source": [
    "path_all_data = [os.path.join(path_data, files) for files in os.listdir(path_data) if files.startswith('_lvr_land', 1)]"
   ]
  },
  {
   "cell_type": "code",
   "execution_count": 7,
   "metadata": {},
   "outputs": [
    {
     "name": "stdout",
     "output_type": "stream",
     "text": [
      "D:\\JobHouseSearch\\Job-Search-2020\\company\\cathay\\exam\\codePy\\.././data\\a_lvr_land_a.csv\n",
      "(955, 33)\n",
      "----------------------------------------------------------------------\n",
      "D:\\JobHouseSearch\\Job-Search-2020\\company\\cathay\\exam\\codePy\\.././data\\b_lvr_land_a.csv\n",
      "(1652, 33)\n",
      "----------------------------------------------------------------------\n",
      "D:\\JobHouseSearch\\Job-Search-2020\\company\\cathay\\exam\\codePy\\.././data\\e_lvr_land_a.csv\n",
      "(1716, 33)\n",
      "----------------------------------------------------------------------\n",
      "D:\\JobHouseSearch\\Job-Search-2020\\company\\cathay\\exam\\codePy\\.././data\\f_lvr_land_a.csv\n",
      "(2397, 33)\n",
      "----------------------------------------------------------------------\n",
      "D:\\JobHouseSearch\\Job-Search-2020\\company\\cathay\\exam\\codePy\\.././data\\h_lvr_land_a.csv\n",
      "(1628, 33)\n",
      "----------------------------------------------------------------------\n"
     ]
    }
   ],
   "source": [
    "'''\n",
    "- row 1 is english column. remove it.\n",
    "- check there are five dataframes: [x for x in dir() if 'df_' in x]\n",
    "- can concat in for-loop. but I follow the steps.\n",
    "'''\n",
    "df_all_list = []\n",
    "for i_path in path_all_data:\n",
    "    print(i_path)\n",
    "    name_data = 'df_' + os.path.basename(i_path).split('.')[0][0]\n",
    "    tmp_data = pd.read_csv(i_path, encoding = 'utf-8')[1:]\n",
    "    df_all_list.append(tmp_data)\n",
    "    exec(name_data + \" = tmp_data\" )\n",
    "    print(tmp_data.shape)\n",
    "    print('-'*70)"
   ]
  },
  {
   "cell_type": "markdown",
   "metadata": {},
   "source": [
    "## step 03 : combine\n",
    "\n",
    "操作 dataframe 物件，將五個物件合併成【df_all】\n",
    "\n",
    "---"
   ]
  },
  {
   "cell_type": "code",
   "execution_count": 8,
   "metadata": {},
   "outputs": [],
   "source": [
    "df_all = pd.concat(df_all_list, ignore_index = True)"
   ]
  },
  {
   "cell_type": "code",
   "execution_count": null,
   "metadata": {},
   "outputs": [],
   "source": []
  },
  {
   "cell_type": "markdown",
   "metadata": {},
   "source": [
    "## step 04 : filter and summary\n",
    "\n",
    "以下列條件從【df_all】篩選計算出結果，並分別輸出【csv 檔案】\n",
    "\n",
    "- filter_a.csv  \n",
    "  - 【主要用途】為【住家用】\n",
    "  - 【建物型態】為【住宅大樓】\n",
    "  - 【總樓層數】需【大於等於十三層】"
   ]
  },
  {
   "cell_type": "code",
   "execution_count": 9,
   "metadata": {},
   "outputs": [],
   "source": [
    "cond01 = (df_all['主要用途']=='住家用')\n",
    "\n",
    "# df_all['建物型態'].unique()\n",
    "cond02 = df_all['建物型態'].str.startswith('住宅大樓')\n",
    "\n",
    "df_all['total_floor'] = df_all['總樓層數'].transform(myfun.chtnum2dignum)\n",
    "# df_all['總樓層數'].unique()\n",
    "# df_all['total_floor'].unique()\n",
    "cond03 = df_all['total_floor'] >= 13"
   ]
  },
  {
   "cell_type": "code",
   "execution_count": 10,
   "metadata": {},
   "outputs": [],
   "source": [
    "filter_a = df_all[cond01 & cond02 & cond03]\n",
    "filter_a.to_csv(os.path.join(path_result, \"./filter_a.csv\"), index = 0, encoding = 'utf-8')"
   ]
  },
  {
   "cell_type": "markdown",
   "metadata": {},
   "source": [
    "--\n",
    "\n",
    "- filter_b.csv\n",
    "  - 計算【總件數】\n",
    "  - 計算【總車位數】(透過交易筆棟數)\n",
    "  - 計算【平均總價元】\n",
    "  - 計算【平均車位總價元】\n",
    "  \n",
    "<font color='red'><b>  \n",
    "題目似乎沒有說，是依照全部(df_all)來做 filter_b.csv 的計算，抑或是依照上述結果(filter_a)繼續往下做。  \n",
    "所以我就依照全部(df_all)繼續運算。如果是要按照上述，就把下方的 df_all 改為 filter_a 即可。  \n",
    "</b></font>"
   ]
  },
  {
   "cell_type": "code",
   "execution_count": 11,
   "metadata": {},
   "outputs": [
    {
     "name": "stdout",
     "output_type": "stream",
     "text": [
      "總件數 :  8348\n",
      "總車位數 :  4143\n",
      "平均總價元 :  15301387.960229995\n",
      "平均車位總價元 :  995157.8910724312\n"
     ]
    }
   ],
   "source": [
    "print('總件數 : ', len(df_all.index))\n",
    "\n",
    "df_all['車位數'] = df_all['交易筆棟數'].astype(str).str.extract('((?<=車位)[0-9]+)', expand = False)\n",
    "print('總車位數 : ', df_all['車位數'].astype(int).sum())\n",
    "\n",
    "df_all['總價元'].astype(float).mean()\n",
    "print('平均總價元 : ', df_all['總價元'].astype(float).mean())\n",
    "\n",
    "# 沒有車位，阿就不用納入計算阿!! (小陷阱XD)\n",
    "print('平均車位總價元 : ', df_all.loc[df_all['車位數']!='0', '車位總價元'].astype(float).mean())"
   ]
  },
  {
   "cell_type": "code",
   "execution_count": 12,
   "metadata": {},
   "outputs": [],
   "source": [
    "attr = ['總件數', '總車位數', '平均總價元', '平均車位總價元']\n",
    "value = [len(df_all.index), \n",
    "         df_all['車位數'].astype(int).sum(),\n",
    "         df_all['總價元'].astype(float).mean(),\n",
    "         df_all.loc[df_all['車位數']!='0', '車位總價元'].astype(float).mean()]\n",
    "filter_b = pd.DataFrame.from_dict({'attr':attr, 'value':value})\n",
    "filter_b.to_csv(os.path.join(path_result, \"./filter_b.csv\"), index = 0, encoding = 'utf-8', float_format = '%.2f')"
   ]
  },
  {
   "cell_type": "code",
   "execution_count": null,
   "metadata": {},
   "outputs": [],
   "source": []
  },
  {
   "cell_type": "markdown",
   "metadata": {},
   "source": [
    "## END"
   ]
  },
  {
   "cell_type": "code",
   "execution_count": 6,
   "metadata": {},
   "outputs": [
    {
     "data": {
      "text/html": [
       "<div>\n",
       "<style scoped>\n",
       "    .dataframe tbody tr th:only-of-type {\n",
       "        vertical-align: middle;\n",
       "    }\n",
       "\n",
       "    .dataframe tbody tr th {\n",
       "        vertical-align: top;\n",
       "    }\n",
       "\n",
       "    .dataframe thead th {\n",
       "        text-align: right;\n",
       "    }\n",
       "</style>\n",
       "<table border=\"1\" class=\"dataframe\">\n",
       "  <thead>\n",
       "    <tr style=\"text-align: right;\">\n",
       "      <th></th>\n",
       "      <th>鄉鎮市區</th>\n",
       "      <th>交易標的</th>\n",
       "      <th>土地區段位置建物區段門牌</th>\n",
       "      <th>土地移轉總面積平方公尺</th>\n",
       "      <th>都市土地使用分區</th>\n",
       "      <th>非都市土地使用分區</th>\n",
       "      <th>非都市土地使用編定</th>\n",
       "      <th>交易年月日</th>\n",
       "      <th>交易筆棟數</th>\n",
       "      <th>移轉層次</th>\n",
       "      <th>...</th>\n",
       "      <th>車位移轉總面積(平方公尺)</th>\n",
       "      <th>車位總價元</th>\n",
       "      <th>備註</th>\n",
       "      <th>編號</th>\n",
       "      <th>主建物面積</th>\n",
       "      <th>附屬建物面積</th>\n",
       "      <th>陽台面積</th>\n",
       "      <th>電梯</th>\n",
       "      <th>移轉編號</th>\n",
       "      <th>total_floor</th>\n",
       "    </tr>\n",
       "  </thead>\n",
       "  <tbody>\n",
       "    <tr>\n",
       "      <th>0</th>\n",
       "      <td>大同區</td>\n",
       "      <td>房地(土地+建物)+車位</td>\n",
       "      <td>民權西路121~150號</td>\n",
       "      <td>4.25</td>\n",
       "      <td>都市：其他:第三種商業區。</td>\n",
       "      <td>NaN</td>\n",
       "      <td>NaN</td>\n",
       "      <td>1100319</td>\n",
       "      <td>土地1建物1車位1</td>\n",
       "      <td>六層</td>\n",
       "      <td>...</td>\n",
       "      <td>0.00</td>\n",
       "      <td>0</td>\n",
       "      <td>陽台外推；夾層；其他增建；</td>\n",
       "      <td>RPOOMLQJNHGGFBA17DA</td>\n",
       "      <td>23.58</td>\n",
       "      <td>1.23</td>\n",
       "      <td>3.58</td>\n",
       "      <td>有</td>\n",
       "      <td>5.0</td>\n",
       "      <td>14</td>\n",
       "    </tr>\n",
       "    <tr>\n",
       "      <th>1</th>\n",
       "      <td>萬華區</td>\n",
       "      <td>房地(土地+建物)+車位</td>\n",
       "      <td>環河南路二段1~30號</td>\n",
       "      <td>8.62</td>\n",
       "      <td>都市：其他:第肆種商業區(依都市計畫說明書圖規定辦理，始得作第肆種商業區使用)(原屬第參種商...</td>\n",
       "      <td>NaN</td>\n",
       "      <td>NaN</td>\n",
       "      <td>1100414</td>\n",
       "      <td>土地2建物1車位1</td>\n",
       "      <td>四層</td>\n",
       "      <td>...</td>\n",
       "      <td>19.94</td>\n",
       "      <td>0</td>\n",
       "      <td>NaN</td>\n",
       "      <td>RPRPMLRJNHGGFBA67DA</td>\n",
       "      <td>51.91</td>\n",
       "      <td>6.01</td>\n",
       "      <td>3.26</td>\n",
       "      <td>有</td>\n",
       "      <td>6.0</td>\n",
       "      <td>24</td>\n",
       "    </tr>\n",
       "    <tr>\n",
       "      <th>2</th>\n",
       "      <td>內湖區</td>\n",
       "      <td>房地(土地+建物)+車位</td>\n",
       "      <td>行善路271~300號</td>\n",
       "      <td>49.87</td>\n",
       "      <td>都市：其他:住商混合區(為容積接收區)。</td>\n",
       "      <td>NaN</td>\n",
       "      <td>NaN</td>\n",
       "      <td>1100308</td>\n",
       "      <td>土地1建物1車位1</td>\n",
       "      <td>三層</td>\n",
       "      <td>...</td>\n",
       "      <td>32.13</td>\n",
       "      <td>3300000</td>\n",
       "      <td>NaN</td>\n",
       "      <td>RPPQMLMKLHGGFCA07DA</td>\n",
       "      <td>158.48</td>\n",
       "      <td>14.90</td>\n",
       "      <td>15.89</td>\n",
       "      <td>有</td>\n",
       "      <td>NaN</td>\n",
       "      <td>14</td>\n",
       "    </tr>\n",
       "    <tr>\n",
       "      <th>3</th>\n",
       "      <td>內湖區</td>\n",
       "      <td>房地(土地+建物)+車位</td>\n",
       "      <td>成功路四段167巷1~30號</td>\n",
       "      <td>33.79</td>\n",
       "      <td>都市：其他:第三種住宅區。</td>\n",
       "      <td>NaN</td>\n",
       "      <td>NaN</td>\n",
       "      <td>1100326</td>\n",
       "      <td>土地2建物1車位1</td>\n",
       "      <td>九層</td>\n",
       "      <td>...</td>\n",
       "      <td>41.04</td>\n",
       "      <td>2500000</td>\n",
       "      <td>其他增建；</td>\n",
       "      <td>RPWQMLQLLHGGFCA28DA</td>\n",
       "      <td>121.12</td>\n",
       "      <td>3.88</td>\n",
       "      <td>10.18</td>\n",
       "      <td>有</td>\n",
       "      <td>7.0</td>\n",
       "      <td>17</td>\n",
       "    </tr>\n",
       "    <tr>\n",
       "      <th>4</th>\n",
       "      <td>北投區</td>\n",
       "      <td>房地(土地+建物)</td>\n",
       "      <td>中山路1~30號</td>\n",
       "      <td>13.74</td>\n",
       "      <td>都市：其他:特定觀光商業專用區。</td>\n",
       "      <td>NaN</td>\n",
       "      <td>NaN</td>\n",
       "      <td>1100402</td>\n",
       "      <td>土地1建物1車位0</td>\n",
       "      <td>七層</td>\n",
       "      <td>...</td>\n",
       "      <td>0.00</td>\n",
       "      <td>0</td>\n",
       "      <td>陽台外推；</td>\n",
       "      <td>RPUPMLNJNHGGFEA87DA</td>\n",
       "      <td>51.92</td>\n",
       "      <td>0.00</td>\n",
       "      <td>16.31</td>\n",
       "      <td>有</td>\n",
       "      <td>NaN</td>\n",
       "      <td>25</td>\n",
       "    </tr>\n",
       "  </tbody>\n",
       "</table>\n",
       "<p>5 rows × 34 columns</p>\n",
       "</div>"
      ],
      "text/plain": [
       "  鄉鎮市區          交易標的    土地區段位置建物區段門牌  土地移轉總面積平方公尺  \\\n",
       "0  大同區  房地(土地+建物)+車位    民權西路121~150號         4.25   \n",
       "1  萬華區  房地(土地+建物)+車位     環河南路二段1~30號         8.62   \n",
       "2  內湖區  房地(土地+建物)+車位     行善路271~300號        49.87   \n",
       "3  內湖區  房地(土地+建物)+車位  成功路四段167巷1~30號        33.79   \n",
       "4  北投區     房地(土地+建物)        中山路1~30號        13.74   \n",
       "\n",
       "                                            都市土地使用分區  非都市土地使用分區  非都市土地使用編定  \\\n",
       "0                                      都市：其他:第三種商業區。        NaN        NaN   \n",
       "1  都市：其他:第肆種商業區(依都市計畫說明書圖規定辦理，始得作第肆種商業區使用)(原屬第參種商...        NaN        NaN   \n",
       "2                               都市：其他:住商混合區(為容積接收區)。        NaN        NaN   \n",
       "3                                      都市：其他:第三種住宅區。        NaN        NaN   \n",
       "4                                   都市：其他:特定觀光商業專用區。        NaN        NaN   \n",
       "\n",
       "     交易年月日      交易筆棟數 移轉層次  ... 車位移轉總面積(平方公尺)    車位總價元             備註  \\\n",
       "0  1100319  土地1建物1車位1   六層  ...          0.00        0  陽台外推；夾層；其他增建；   \n",
       "1  1100414  土地2建物1車位1   四層  ...         19.94        0            NaN   \n",
       "2  1100308  土地1建物1車位1   三層  ...         32.13  3300000            NaN   \n",
       "3  1100326  土地2建物1車位1   九層  ...         41.04  2500000          其他增建；   \n",
       "4  1100402  土地1建物1車位0   七層  ...          0.00        0          陽台外推；   \n",
       "\n",
       "                    編號   主建物面積  附屬建物面積   陽台面積  電梯  移轉編號 total_floor  \n",
       "0  RPOOMLQJNHGGFBA17DA   23.58    1.23   3.58   有   5.0          14  \n",
       "1  RPRPMLRJNHGGFBA67DA   51.91    6.01   3.26   有   6.0          24  \n",
       "2  RPPQMLMKLHGGFCA07DA  158.48   14.90  15.89   有   NaN          14  \n",
       "3  RPWQMLQLLHGGFCA28DA  121.12    3.88  10.18   有   7.0          17  \n",
       "4  RPUPMLNJNHGGFEA87DA   51.92    0.00  16.31   有   NaN          25  \n",
       "\n",
       "[5 rows x 34 columns]"
      ]
     },
     "execution_count": 6,
     "metadata": {},
     "output_type": "execute_result"
    }
   ],
   "source": [
    "pd.read_csv(os.path.join(path_result, \"./filter_a.csv\"), nrows=5)"
   ]
  },
  {
   "cell_type": "code",
   "execution_count": 4,
   "metadata": {},
   "outputs": [
    {
     "data": {
      "text/html": [
       "<div>\n",
       "<style scoped>\n",
       "    .dataframe tbody tr th:only-of-type {\n",
       "        vertical-align: middle;\n",
       "    }\n",
       "\n",
       "    .dataframe tbody tr th {\n",
       "        vertical-align: top;\n",
       "    }\n",
       "\n",
       "    .dataframe thead th {\n",
       "        text-align: right;\n",
       "    }\n",
       "</style>\n",
       "<table border=\"1\" class=\"dataframe\">\n",
       "  <thead>\n",
       "    <tr style=\"text-align: right;\">\n",
       "      <th></th>\n",
       "      <th>attr</th>\n",
       "      <th>value</th>\n",
       "    </tr>\n",
       "  </thead>\n",
       "  <tbody>\n",
       "    <tr>\n",
       "      <th>0</th>\n",
       "      <td>總件數</td>\n",
       "      <td>8348.00</td>\n",
       "    </tr>\n",
       "    <tr>\n",
       "      <th>1</th>\n",
       "      <td>總車位數</td>\n",
       "      <td>4143.00</td>\n",
       "    </tr>\n",
       "    <tr>\n",
       "      <th>2</th>\n",
       "      <td>平均總價元</td>\n",
       "      <td>15301387.96</td>\n",
       "    </tr>\n",
       "    <tr>\n",
       "      <th>3</th>\n",
       "      <td>平均車位總價元</td>\n",
       "      <td>995157.89</td>\n",
       "    </tr>\n",
       "  </tbody>\n",
       "</table>\n",
       "</div>"
      ],
      "text/plain": [
       "      attr        value\n",
       "0      總件數      8348.00\n",
       "1     總車位數      4143.00\n",
       "2    平均總價元  15301387.96\n",
       "3  平均車位總價元    995157.89"
      ]
     },
     "execution_count": 4,
     "metadata": {},
     "output_type": "execute_result"
    }
   ],
   "source": [
    "pd.read_csv(os.path.join(path_result, \"./filter_b.csv\"))"
   ]
  },
  {
   "cell_type": "code",
   "execution_count": null,
   "metadata": {},
   "outputs": [],
   "source": []
  }
 ],
 "metadata": {
  "kernelspec": {
   "display_name": "Python 3.7.5",
   "language": "python",
   "name": "python3.7.5"
  },
  "language_info": {
   "codemirror_mode": {
    "name": "ipython",
    "version": 3
   },
   "file_extension": ".py",
   "mimetype": "text/x-python",
   "name": "python",
   "nbconvert_exporter": "python",
   "pygments_lexer": "ipython3",
   "version": "3.7.5"
  },
  "toc": {
   "base_numbering": 1,
   "nav_menu": {
    "height": "59px",
    "width": "160px"
   },
   "number_sections": false,
   "sideBar": true,
   "skip_h1_title": false,
   "title_cell": "Table of Contents",
   "title_sidebar": "Contents",
   "toc_cell": false,
   "toc_position": {
    "height": "calc(100% - 180px)",
    "left": "10px",
    "top": "150px",
    "width": "206.76px"
   },
   "toc_section_display": true,
   "toc_window_display": false
  }
 },
 "nbformat": 4,
 "nbformat_minor": 2
}
