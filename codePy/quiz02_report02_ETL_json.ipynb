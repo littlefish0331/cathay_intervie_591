{
 "cells": [
  {
   "cell_type": "markdown",
   "metadata": {},
   "source": [
    "# ETL rent-591 results (json)"
   ]
  },
  {
   "cell_type": "raw",
   "metadata": {},
   "source": [
    "from IPython.core.display import HTML\n",
    "HTML(\"<script>Jupyter.notebook.kernel.restart()</script>\")"
   ]
  },
  {
   "cell_type": "code",
   "execution_count": 1,
   "metadata": {},
   "outputs": [],
   "source": [
    "import os\n",
    "import sys\n",
    "import numpy as np\n",
    "import json\n",
    "import re\n",
    "from pymongo import MongoClient\n",
    "\n",
    "# self-definition package.module\n",
    "# del myfun\n",
    "import quiz.myfun02 as myfun"
   ]
  },
  {
   "cell_type": "code",
   "execution_count": 2,
   "metadata": {},
   "outputs": [],
   "source": [
    "path_root = os.path.join(os.getcwd(), \"../\")\n",
    "path_key = os.path.join(path_root, './key/key.txt')\n",
    "path_result = os.path.join(path_root, \"./result\")\n",
    "json_taipei = os.path.join(path_result, \"./results_taipai.json\")\n",
    "json_newtaipei = os.path.join(path_result, \"./results_newtaipai.json\")"
   ]
  },
  {
   "cell_type": "code",
   "execution_count": 3,
   "metadata": {},
   "outputs": [],
   "source": [
    "conn_string = open(path_key, 'r').read()"
   ]
  },
  {
   "cell_type": "code",
   "execution_count": null,
   "metadata": {},
   "outputs": [],
   "source": []
  },
  {
   "cell_type": "markdown",
   "metadata": {},
   "source": [
    "---\n",
    "\n",
    "## read json"
   ]
  },
  {
   "cell_type": "code",
   "execution_count": 4,
   "metadata": {},
   "outputs": [],
   "source": [
    "with open(json_taipei, \"r\", encoding='utf-8') as jsonfile:\n",
    "    raw_t = json.load(jsonfile)\n",
    "\n",
    "with open(json_newtaipei, \"r\", encoding='utf-8') as jsonfile:\n",
    "    raw_nt = json.load(jsonfile)"
   ]
  },
  {
   "cell_type": "code",
   "execution_count": null,
   "metadata": {},
   "outputs": [],
   "source": []
  },
  {
   "cell_type": "markdown",
   "metadata": {},
   "source": [
    "---\n",
    "\n",
    "## Tansform - meta location"
   ]
  },
  {
   "cell_type": "code",
   "execution_count": 5,
   "metadata": {},
   "outputs": [],
   "source": [
    "# requirement fiels for location \n",
    "req_col = {\n",
    "    'regionid', 'sectionid', 'streetid',\n",
    "    'region_name', 'section_name', 'street_name',\n",
    "}"
   ]
  },
  {
   "cell_type": "code",
   "execution_count": 6,
   "metadata": {},
   "outputs": [],
   "source": [
    "# 每一筆都要做這件事\n",
    "region = []\n",
    "street = []\n",
    "section = []\n",
    "for i in range(len(raw_t)):      \n",
    "    req_raw = {k: raw_t[i][k] for k in raw_t[i].keys() & req_col}\n",
    "    location = myfun.extract_location(req_raw)\n",
    "    region.append(location['region'])\n",
    "    street.append(location['street'])\n",
    "    section.append(location['section'])\n",
    "\n",
    "for i in range(len(raw_nt)):\n",
    "    req_raw = {k: raw_nt[i][k] for k in raw_nt[i].keys() & req_col}\n",
    "    location = myfun.extract_location(req_raw)\n",
    "    region.append(location['region'])\n",
    "    street.append(location['street'])\n",
    "    section.append(location['section'])"
   ]
  },
  {
   "cell_type": "code",
   "execution_count": 7,
   "metadata": {},
   "outputs": [],
   "source": [
    "# unique list: meta_region, meta_street, meta_section\n",
    "a = {v['regionid']:v for v in region}.values()\n",
    "meta_region = [v for v in a]\n",
    "meta_street = [dict(s) for s in set(frozenset(d.items()) for d in street)]\n",
    "meta_section = [dict(s) for s in set(frozenset(d.items()) for d in section)]"
   ]
  },
  {
   "cell_type": "code",
   "execution_count": null,
   "metadata": {},
   "outputs": [],
   "source": []
  },
  {
   "cell_type": "markdown",
   "metadata": {},
   "source": [
    "---\n",
    "\n",
    "### inert to mongoDB"
   ]
  },
  {
   "cell_type": "code",
   "execution_count": 8,
   "metadata": {},
   "outputs": [],
   "source": [
    "cluster = MongoClient(conn_string)\n",
    "db = cluster['db_cathay']"
   ]
  },
  {
   "cell_type": "code",
   "execution_count": 9,
   "metadata": {},
   "outputs": [
    {
     "data": {
      "text/plain": [
       "<pymongo.results.InsertManyResult at 0x2114d55ec88>"
      ]
     },
     "execution_count": 9,
     "metadata": {},
     "output_type": "execute_result"
    }
   ],
   "source": [
    "collection = db['meta_region']\n",
    "collection.delete_many({})\n",
    "collection.insert_many(meta_region)\n",
    "\n",
    "collection = db['meta_street']\n",
    "collection.delete_many({})\n",
    "collection.insert_many(meta_street)\n",
    "\n",
    "collection = db['meta_section']\n",
    "collection.delete_many({})\n",
    "collection.insert_many(meta_section)"
   ]
  },
  {
   "cell_type": "code",
   "execution_count": 10,
   "metadata": {},
   "outputs": [],
   "source": [
    "cluster.close()"
   ]
  },
  {
   "cell_type": "code",
   "execution_count": null,
   "metadata": {},
   "outputs": [],
   "source": []
  },
  {
   "cell_type": "markdown",
   "metadata": {},
   "source": [
    "---\n",
    "\n",
    "## Transform - meta cathay"
   ]
  },
  {
   "cell_type": "code",
   "execution_count": 11,
   "metadata": {},
   "outputs": [],
   "source": [
    "# requirement fields for cathay \n",
    "req_col = {\"post_id\", \"kind\",\"shape\",\"nick_name\", \"condition\",}"
   ]
  },
  {
   "cell_type": "code",
   "execution_count": 12,
   "metadata": {},
   "outputs": [],
   "source": [
    "# 每一筆都要做這件事\n",
    "cathay_search = []\n",
    "for i in range(len(raw_t)):      \n",
    "    req_raw = {k: raw_t[i][k] for k in raw_t[i].keys() & req_col}\n",
    "    cathay_search.append(myfun.raw_cathay(req_raw))\n",
    "\n",
    "for i in range(len(raw_nt)):      \n",
    "    req_raw = {k: raw_nt[i][k] for k in raw_nt[i].keys() & req_col}\n",
    "    cathay_search.append(myfun.raw_cathay(req_raw))"
   ]
  },
  {
   "cell_type": "code",
   "execution_count": null,
   "metadata": {},
   "outputs": [],
   "source": []
  },
  {
   "cell_type": "markdown",
   "metadata": {},
   "source": [
    "---\n",
    "\n",
    "### inert to mongoDB"
   ]
  },
  {
   "cell_type": "code",
   "execution_count": 13,
   "metadata": {},
   "outputs": [],
   "source": [
    "cluster = MongoClient(conn_string)\n",
    "db = cluster['db_cathay']"
   ]
  },
  {
   "cell_type": "code",
   "execution_count": 14,
   "metadata": {},
   "outputs": [
    {
     "data": {
      "text/plain": [
       "<pymongo.results.InsertManyResult at 0x21156545fc8>"
      ]
     },
     "execution_count": 14,
     "metadata": {},
     "output_type": "execute_result"
    }
   ],
   "source": [
    "collection = db['cathay_search']\n",
    "collection.delete_many({})\n",
    "collection.insert_many(cathay_search)"
   ]
  },
  {
   "cell_type": "code",
   "execution_count": 15,
   "metadata": {},
   "outputs": [],
   "source": [
    "cluster.close()"
   ]
  },
  {
   "cell_type": "code",
   "execution_count": null,
   "metadata": {},
   "outputs": [],
   "source": []
  },
  {
   "cell_type": "markdown",
   "metadata": {},
   "source": [
    "---\n",
    "\n",
    "## Transform - meta my"
   ]
  },
  {
   "cell_type": "code",
   "execution_count": 16,
   "metadata": {},
   "outputs": [],
   "source": [
    "# requirement fields for me\n",
    "req_col = {\"post_id\", \"updatetime\", \"browsenum_all\", \"hasimg\",\n",
    "           \"area\", \"kind\", \"shape\",\"room\", \"floor\", \"allfloor\",\n",
    "           \"regionid\",\"sectionid\",\"streetid\",\n",
    "           \"nick_name\",\"price\",\"living\",\"condition\",}"
   ]
  },
  {
   "cell_type": "code",
   "execution_count": 17,
   "metadata": {
    "scrolled": true
   },
   "outputs": [],
   "source": [
    "# 每一筆都要做這件事\n",
    "my_search = []\n",
    "for i in range(len(raw_t)):      \n",
    "    req_raw = {k: raw_t[i][k] for k in raw_t[i].keys() & req_col}\n",
    "    my_search.append(myfun.raw_my(req_raw))\n",
    "    \n",
    "for i in range(len(raw_nt)):      \n",
    "    req_raw = {k: raw_nt[i][k] for k in raw_nt[i].keys() & req_col}\n",
    "    my_search.append(myfun.raw_my(req_raw))"
   ]
  },
  {
   "cell_type": "code",
   "execution_count": null,
   "metadata": {},
   "outputs": [],
   "source": []
  },
  {
   "cell_type": "markdown",
   "metadata": {},
   "source": [
    "---\n",
    "\n",
    "### inert to mongoDB"
   ]
  },
  {
   "cell_type": "code",
   "execution_count": 18,
   "metadata": {},
   "outputs": [],
   "source": [
    "cluster = MongoClient(conn_string)\n",
    "db = cluster['db_cathay']"
   ]
  },
  {
   "cell_type": "code",
   "execution_count": 19,
   "metadata": {},
   "outputs": [
    {
     "data": {
      "text/plain": [
       "<pymongo.results.InsertManyResult at 0x2115cb712c8>"
      ]
     },
     "execution_count": 19,
     "metadata": {},
     "output_type": "execute_result"
    }
   ],
   "source": [
    "collection = db['my_search']\n",
    "collection.delete_many({})\n",
    "collection.insert_many(my_search)"
   ]
  },
  {
   "cell_type": "code",
   "execution_count": 20,
   "metadata": {},
   "outputs": [],
   "source": [
    "cluster.close()"
   ]
  },
  {
   "cell_type": "code",
   "execution_count": null,
   "metadata": {},
   "outputs": [],
   "source": []
  },
  {
   "cell_type": "markdown",
   "metadata": {},
   "source": [
    "---\n",
    "\n",
    "## Transform - meta data"
   ]
  },
  {
   "cell_type": "code",
   "execution_count": 21,
   "metadata": {},
   "outputs": [],
   "source": [
    "# 每一筆都要做這件事\n",
    "# requirement fields for meta\n",
    "req_col = {\"nick_name\",\"post_id\",\"updatetime\",\"refreshtime\",\"browsenum_all\",\n",
    "           \"hasimg\",\"cover\",\"photoNum\",\n",
    "           \"area\",\"price\",\"unit\",\n",
    "           \"kind\",\"shape\",\"houseage\",\n",
    "           \"living\",\"condition\",\n",
    "           \"room\",\"layout\",\"floorInfo\",\n",
    "           \"region_name\",\"section_name\",\"street_name\",\"alley_name\",\"address_img\",\n",
    "          }"
   ]
  },
  {
   "cell_type": "code",
   "execution_count": 22,
   "metadata": {
    "scrolled": true
   },
   "outputs": [],
   "source": [
    "# 每一筆都要做這件事\n",
    "meta_data = []\n",
    "for i in range(len(raw_t)):      \n",
    "    req_raw = {k: raw_t[i][k] for k in raw_t[i].keys() & req_col}\n",
    "    meta_data.append(myfun.raw_meta(req_raw))\n",
    "    \n",
    "for i in range(len(raw_nt)):      \n",
    "    req_raw = {k: raw_nt[i][k] for k in raw_nt[i].keys() & req_col}\n",
    "    meta_data.append(myfun.raw_meta(req_raw))"
   ]
  },
  {
   "cell_type": "code",
   "execution_count": null,
   "metadata": {},
   "outputs": [],
   "source": []
  },
  {
   "cell_type": "markdown",
   "metadata": {},
   "source": [
    "---\n",
    "\n",
    "### inert to mongoDB"
   ]
  },
  {
   "cell_type": "code",
   "execution_count": 23,
   "metadata": {},
   "outputs": [],
   "source": [
    "cluster = MongoClient(conn_string)\n",
    "db = cluster['db_cathay']"
   ]
  },
  {
   "cell_type": "code",
   "execution_count": 24,
   "metadata": {},
   "outputs": [
    {
     "data": {
      "text/plain": [
       "<pymongo.results.InsertManyResult at 0x2115efc9288>"
      ]
     },
     "execution_count": 24,
     "metadata": {},
     "output_type": "execute_result"
    }
   ],
   "source": [
    "collection = db['meta_data']\n",
    "collection.delete_many({})\n",
    "collection.insert_many(meta_data)"
   ]
  },
  {
   "cell_type": "code",
   "execution_count": 25,
   "metadata": {},
   "outputs": [],
   "source": [
    "cluster.close()"
   ]
  },
  {
   "cell_type": "code",
   "execution_count": null,
   "metadata": {},
   "outputs": [],
   "source": []
  },
  {
   "cell_type": "markdown",
   "metadata": {},
   "source": [
    "---\n",
    "\n",
    "## other meta"
   ]
  },
  {
   "cell_type": "code",
   "execution_count": 26,
   "metadata": {},
   "outputs": [],
   "source": [
    "cluster = MongoClient(conn_string)\n",
    "db = cluster['db_cathay']"
   ]
  },
  {
   "cell_type": "code",
   "execution_count": 27,
   "metadata": {},
   "outputs": [],
   "source": [
    "\n",
    "meta_kind = {\n",
    "    \"0\": \"不限\",\n",
    "    \"1\": \"整層住家\",\n",
    "    \"2\": \"獨立套房\",\n",
    "    \"3\": \"分租套房\",\n",
    "    \"4\": \"雅房\",\n",
    "}\n",
    "\n",
    "meta_shape = {\n",
    "    \"1\": \"公寓\",\n",
    "    \"2\": \"電梯大樓\",\n",
    "    \"3\": \"透天厝\",\n",
    "    \"4\": \"別墅\",\n",
    "}\n",
    "\n",
    "meta_condition = {\n",
    "    'cook': '可開火',\n",
    "    'cartplace': '有車位',\n",
    "    'balcony_0': '沒有陽台',\n",
    "    'pet': '可養寵物',\n",
    "    'trabus': '有公車',\n",
    "    'lease': '可短期租賃',\n",
    "    'balcony_1': '有陽台',\n",
    "    'lift': '有電梯',\n",
    "    'tv': '電視',\n",
    "    'cold': '冷氣',\n",
    "    'icebox': '冰箱',\n",
    "    'hotwater': '熱水器',\n",
    "    'naturalgas': '天然瓦斯',\n",
    "    'four': '第四台',\n",
    "    'broadband': '網路',\n",
    "    'washer': '洗衣機',\n",
    "    'bed': '床',\n",
    "    'wardrobe': '衣櫃',\n",
    "    'sofa': '沙發',\n",
    "    'bookTable': '桌子',\n",
    "    'chair': '椅子',\n",
    "}\n",
    "\n",
    "meta_living = {\n",
    "    'depart': '百貨公司',\n",
    "    'advstore': '進便利商店',\n",
    "    'market': '傳統市場',\n",
    "    'night': '夜市',\n",
    "    'park': '公園綠地',\n",
    "    'school': '學校',\n",
    "    'hospital': '醫療機構',\n",
    "}"
   ]
  },
  {
   "cell_type": "code",
   "execution_count": 28,
   "metadata": {},
   "outputs": [
    {
     "data": {
      "text/plain": [
       "<pymongo.results.InsertOneResult at 0x211564ff1c8>"
      ]
     },
     "execution_count": 28,
     "metadata": {},
     "output_type": "execute_result"
    }
   ],
   "source": [
    "collection = db['meta_kind']\n",
    "collection.delete_many({})\n",
    "collection.insert_one(meta_kind)\n",
    "\n",
    "collection = db['meta_shape']\n",
    "collection.delete_many({})\n",
    "collection.insert_one(meta_shape)\n",
    "\n",
    "collection = db['meta_condition']\n",
    "collection.delete_many({})\n",
    "collection.insert_one(meta_condition)\n",
    "\n",
    "collection = db['meta_living']\n",
    "collection.delete_many({})\n",
    "collection.insert_one(meta_living)"
   ]
  },
  {
   "cell_type": "code",
   "execution_count": 29,
   "metadata": {},
   "outputs": [],
   "source": [
    "cluster.close()"
   ]
  },
  {
   "cell_type": "code",
   "execution_count": null,
   "metadata": {},
   "outputs": [],
   "source": []
  },
  {
   "cell_type": "markdown",
   "metadata": {},
   "source": [
    "---\n",
    "\n",
    "## save refresh csv"
   ]
  },
  {
   "cell_type": "code",
   "execution_count": 30,
   "metadata": {},
   "outputs": [],
   "source": [
    "import pandas as pd"
   ]
  },
  {
   "cell_type": "code",
   "execution_count": 31,
   "metadata": {
    "scrolled": true
   },
   "outputs": [],
   "source": [
    "meta_refresh = []\n",
    "for x in raw_t:\n",
    "    meta_refresh = meta_refresh + [{'id': x['id'], 'updatetime': x['updatetime']}]\n",
    "for x in raw_nt:\n",
    "    meta_refresh = meta_refresh + [{'id': x['id'], 'updatetime': x['updatetime']}]\n",
    "\n",
    "path_csv = os.path.join(path_result, \"./meta_refresh.csv\")\n",
    "pd.DataFrame.from_dict(meta_refresh).to_csv(path_csv, encoding = 'utf-8', index = 0)"
   ]
  },
  {
   "cell_type": "code",
   "execution_count": null,
   "metadata": {},
   "outputs": [],
   "source": []
  },
  {
   "cell_type": "markdown",
   "metadata": {},
   "source": [
    "## END"
   ]
  },
  {
   "cell_type": "code",
   "execution_count": null,
   "metadata": {},
   "outputs": [],
   "source": []
  }
 ],
 "metadata": {
  "kernelspec": {
   "display_name": "Python 3.7.5",
   "language": "python",
   "name": "python3.7.5"
  },
  "language_info": {
   "codemirror_mode": {
    "name": "ipython",
    "version": 3
   },
   "file_extension": ".py",
   "mimetype": "text/x-python",
   "name": "python",
   "nbconvert_exporter": "python",
   "pygments_lexer": "ipython3",
   "version": "3.7.5"
  },
  "toc": {
   "base_numbering": 1,
   "nav_menu": {},
   "number_sections": false,
   "sideBar": true,
   "skip_h1_title": false,
   "title_cell": "Table of Contents",
   "title_sidebar": "Contents",
   "toc_cell": false,
   "toc_position": {
    "height": "calc(100% - 180px)",
    "left": "10px",
    "top": "150px",
    "width": "245.76px"
   },
   "toc_section_display": true,
   "toc_window_display": false
  }
 },
 "nbformat": 4,
 "nbformat_minor": 2
}
